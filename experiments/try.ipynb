{
 "cells": [
  {
   "cell_type": "code",
   "execution_count": 17,
   "metadata": {
    "collapsed": true
   },
   "outputs": [],
   "source": [
    "import numpy as np\n",
    "import matplotlib.pyplot as plt\n",
    "from scipy import stats\n",
    "\n",
    "\n",
    "def log_target(x):\n",
    "    return np.log(0.5 * stats.norm.pdf(x, loc=4., scale=1.0) + 0.5 * stats.norm.pdf(x, loc=-4., scale=1.0)\n",
    "                  )\n",
    "\n",
    "def q_hat_random_walk_mh_proposal(x):\n",
    "    return x + 3.0 * np.random.normal(loc=0., scale=1.0)\n",
    "\n",
    "def log_q(xp, x):\n",
    "    return stats.norm.logpdf(xp, loc=x, scale=3.0)\n",
    "\n",
    "def default_monte_carlo_estimator(h, x0, q_hat, log_q, log_target, n_chain):\n",
    "    s = 0.\n",
    "    x = x0\n",
    "    for i in range(n_chain):\n",
    "        xp = q_hat(x)\n",
    "        accept = np.exp(log_target(xp) + log_q(xp, x) - log_target(x) - log_q(x, xp))\n",
    "        if np.random.uniform() < accept:\n",
    "            x = xp\n",
    "        s += h(x)\n",
    "    return s/(n_chain + 1.)\n",
    "\n",
    "def h(x):\n",
    "    if x >= 3.0:\n",
    "        return 1.0\n",
    "    else:\n",
    "        return 0.0\n",
    "\n",
    "def maximal_coupling(p_hat, q_hat, log_p, log_q, eta=1.0):\n",
    "    log_eta = np.log(eta)\n",
    "    X = p_hat()\n",
    "    W = - np.random.exponential()\n",
    "    if W <= np.minimum(log_eta, log_q(X)-log_p(X)):\n",
    "        return X, X, True\n",
    "    else:\n",
    "        while True:\n",
    "            Ystar = q_hat()\n",
    "            Wstar = -np.random.exponential()\n",
    "            if Wstar > log_eta + log_p(Ystar) - log_q(Ystar):\n",
    "                break\n",
    "        return X, Ystar, False\n",
    "\n",
    "\n",
    "def unbiased_monte_carlo_estimator(h, x0, y0, q_hat, log_q, log_target, k, m, eta=1.0, lag=1, max_iter=1e6):\n",
    "    s = 0.\n",
    "    mcmc = 0.\n",
    "    bias_correction = 0.\n",
    "    x = x0\n",
    "    y = y0\n",
    "    def v(t):\n",
    "        return np.floor((t-k)/lag) - np.ceil(np.maximum(lag, t-m)/lag) + 1\n",
    "    for time in range(lag):\n",
    "        xp = q_hat(x)\n",
    "        accept = np.exp(log_target(xp) + log_q(xp, x) - log_target(x) - log_q(x, xp))\n",
    "        if np.random.uniform() < accept:\n",
    "            x = xp\n",
    "    is_coupled = False\n",
    "    for time in range(lag+1, min(max_iter, m+1)):\n",
    "        x_prop, y_prop, _ = maximal_coupling(\n",
    "            p_hat=lambda: q_hat(x),\n",
    "            q_hat=lambda: q_hat(y),\n",
    "            log_p=lambda z: log_q(x, z),\n",
    "            log_q=lambda z: log_q(y, z)\n",
    "        )\n",
    "        W = -np.random.exponential()\n",
    "        accept_X = W <= log_target(x_prop) + log_q(x_prop, x) - log_target(x) - log_q(x, x_prop)\n",
    "        accept_Y = W <= log_target(y_prop) + log_q(y_prop, y) - log_target(y) - log_q(y, y_prop)\n",
    "        if accept_X:\n",
    "            x = x_prop\n",
    "        if accept_Y:\n",
    "            y = y_prop\n",
    "        is_coupled = (accept_X & accept_Y & _) | is_coupled\n",
    "        print(is_coupled)\n",
    "        print(x)\n",
    "        print(y)\n",
    "        mcmc += h(x)\n",
    "        bias_correction += v(time) * (h(x)-h(y))\n",
    "    s = (mcmc + bias_correction)/(m-k+1)\n",
    "    return s, is_coupled\n"
   ]
  },
  {
   "cell_type": "code",
   "execution_count": 11,
   "outputs": [
    {
     "data": {
      "text/plain": "0.42248577514224855"
     },
     "execution_count": 11,
     "metadata": {},
     "output_type": "execute_result"
    }
   ],
   "source": [
    "default_monte_carlo_estimator(h, 0.0, q_hat_random_walk_mh_proposal, log_q, log_target, 100000)"
   ],
   "metadata": {
    "collapsed": false
   }
  },
  {
   "cell_type": "code",
   "execution_count": 24,
   "outputs": [
    {
     "name": "stdout",
     "output_type": "stream",
     "text": [
      "False\n",
      "-3.984150269521229\n",
      "2.2016574134621365\n",
      "False\n",
      "-2.9195138460590866\n",
      "2.2016574134621365\n",
      "True\n",
      "-1.8416997831197903\n",
      "-1.8416997831197903\n",
      "True\n",
      "-1.8416997831197903\n",
      "-1.8416997831197903\n",
      "True\n",
      "-2.012894572278365\n",
      "-2.012894572278365\n",
      "True\n",
      "-2.470024708583208\n",
      "-2.470024708583208\n",
      "True\n",
      "-4.447244743709434\n",
      "-4.447244743709434\n",
      "True\n",
      "-5.6998639413553605\n",
      "-5.6998639413553605\n",
      "True\n",
      "-6.4781038509546915\n",
      "-6.4781038509546915\n"
     ]
    },
    {
     "data": {
      "text/plain": "(0.0, True)"
     },
     "execution_count": 24,
     "metadata": {},
     "output_type": "execute_result"
    }
   ],
   "source": [
    "unbiased_monte_carlo_estimator(h, np.random.uniform(), np.random.uniform(), q_hat_random_walk_mh_proposal, log_q, log_target, 1, 10)"
   ],
   "metadata": {
    "collapsed": false
   }
  },
  {
   "cell_type": "code",
   "execution_count": null,
   "outputs": [],
   "source": [],
   "metadata": {
    "collapsed": false
   }
  }
 ],
 "metadata": {
  "kernelspec": {
   "display_name": "Python 3",
   "language": "python",
   "name": "python3"
  },
  "language_info": {
   "codemirror_mode": {
    "name": "ipython",
    "version": 2
   },
   "file_extension": ".py",
   "mimetype": "text/x-python",
   "name": "python",
   "nbconvert_exporter": "python",
   "pygments_lexer": "ipython2",
   "version": "2.7.6"
  }
 },
 "nbformat": 4,
 "nbformat_minor": 0
}
