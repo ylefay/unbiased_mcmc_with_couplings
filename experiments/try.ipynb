{
 "cells": [
  {
   "cell_type": "code",
   "execution_count": 2,
   "metadata": {
    "collapsed": true
   },
   "outputs": [],
   "source": [
    "import numpy as np\n",
    "import matplotlib.pyplot as plt\n",
    "from scipy import stats\n",
    "\n",
    "\n",
    "def log_target(x):\n",
    "    return np.log(0.5 * stats.norm.pdf(x, loc=4., scale=1.0) + 0.5 * stats.norm.pdf(x, loc=-4., scale=1.0)\n",
    "                  )\n",
    "\n",
    "def q_hat_random_walk_mh_proposal(x):\n",
    "    return x + 3.0 * np.random.normal(loc=0., scale=1.0)\n",
    "\n",
    "def log_q(xp, x):\n",
    "    return stats.norm.logpdf(xp, loc=x, scale=3.0)\n",
    "\n",
    "def default_monte_carlo_estimator(h, x0, q_hat, log_q, log_target, n_chain):\n",
    "    s = 0.\n",
    "    x = x0\n",
    "    for i in range(n_chain):\n",
    "        xp = q_hat(x)\n",
    "        accept = np.exp(log_target(xp) + log_q(xp, x) - log_target(x) - log_q(x, xp))\n",
    "        if np.random.uniform() < accept:\n",
    "            x = xp\n",
    "        s += h(x)\n",
    "    return s/(n_chain + 1.)\n",
    "\n",
    "def h(x):\n",
    "    if x >= 3.0:\n",
    "        return 1.0\n",
    "    else:\n",
    "        return 0.0\n",
    "\n",
    "def maximal_coupling(p_hat, q_hat, log_p, log_q, eta=1.0):\n",
    "    log_eta = np.log(eta)\n",
    "    X = p_hat()\n",
    "    W = - np.random.exponential()\n",
    "    if W <= np.minimum(log_eta, log_q(X)-log_p(X)):\n",
    "        return X, X, True\n",
    "    else:\n",
    "        while True:\n",
    "            Ystar = q_hat()\n",
    "            Wstar = -np.random.exponential()\n",
    "            if Wstar > log_eta + log_p(Ystar) - log_q(Ystar):\n",
    "                break\n",
    "        return X, Ystar, False\n",
    "\n",
    "\n",
    "def unbiased_monte_carlo_estimator(h, x0, y0, q_hat, log_q, log_target, k, m, eta=1.0, lag=1, max_iter=1e6):\n",
    "    s = 0.\n",
    "    mcmc = 0.\n",
    "    bias_correction = 0.\n",
    "    x = x0\n",
    "    y = y0\n",
    "    def v(t):\n",
    "        return np.floor((t-k)/lag) - np.ceil(np.maximum(lag, t-m)/lag) + 1\n",
    "    for time in range(lag):\n",
    "        xp = q_hat(x)\n",
    "        accept = np.exp(log_target(xp) + log_q(xp, x) - log_target(x) - log_q(x, xp))\n",
    "        if np.random.uniform() < accept:\n",
    "            x = xp\n",
    "    is_coupled = False\n",
    "    for time in range(lag+1, min(max_iter, m+1)):\n",
    "        x_prop, y_prop, _ = maximal_coupling(\n",
    "            p_hat=lambda: q_hat(x),\n",
    "            q_hat=lambda: q_hat(y),\n",
    "            log_p=lambda z: log_q(x, z),\n",
    "            log_q=lambda z: log_q(y, z)\n",
    "        )\n",
    "        W = -np.random.exponential()\n",
    "        accept_X = W <= log_target(x_prop) + log_q(x_prop, x) - log_target(x) - log_q(x, x_prop)\n",
    "        accept_Y = W <= log_target(y_prop) + log_q(y_prop, y) - log_target(y) - log_q(y, y_prop)\n",
    "        if accept_X:\n",
    "            x = x_prop\n",
    "        if accept_Y:\n",
    "            y = y_prop\n",
    "        is_coupled = (accept_X & accept_Y & _) | is_coupled\n",
    "        if time >= k:\n",
    "            mcmc += h(x)\n",
    "        if time >= k+1:\n",
    "            bias_correction += v(time) * (h(x)-h(y))\n",
    "    s = (mcmc + bias_correction)/(m-k+1)\n",
    "    return s, is_coupled\n"
   ]
  },
  {
   "cell_type": "code",
   "execution_count": 46,
   "outputs": [
    {
     "ename": "KeyboardInterrupt",
     "evalue": "",
     "output_type": "error",
     "traceback": [
      "\u001B[0;31m---------------------------------------------------------------------------\u001B[0m",
      "\u001B[0;31mKeyboardInterrupt\u001B[0m                         Traceback (most recent call last)",
      "Cell \u001B[0;32mIn[46], line 1\u001B[0m\n\u001B[0;32m----> 1\u001B[0m \u001B[43mdefault_monte_carlo_estimator\u001B[49m\u001B[43m(\u001B[49m\u001B[43mh\u001B[49m\u001B[43m,\u001B[49m\u001B[43m \u001B[49m\u001B[38;5;241;43m0.0\u001B[39;49m\u001B[43m,\u001B[49m\u001B[43m \u001B[49m\u001B[43mq_hat_random_walk_mh_proposal\u001B[49m\u001B[43m,\u001B[49m\u001B[43m \u001B[49m\u001B[43mlog_q\u001B[49m\u001B[43m,\u001B[49m\u001B[43m \u001B[49m\u001B[43mlog_target\u001B[49m\u001B[43m,\u001B[49m\u001B[43m \u001B[49m\u001B[38;5;241;43m100000\u001B[39;49m\u001B[43m)\u001B[49m\n",
      "Cell \u001B[0;32mIn[45], line 21\u001B[0m, in \u001B[0;36mdefault_monte_carlo_estimator\u001B[0;34m(h, x0, q_hat, log_q, log_target, n_chain)\u001B[0m\n\u001B[1;32m     19\u001B[0m \u001B[38;5;28;01mfor\u001B[39;00m i \u001B[38;5;129;01min\u001B[39;00m \u001B[38;5;28mrange\u001B[39m(n_chain):\n\u001B[1;32m     20\u001B[0m     xp \u001B[38;5;241m=\u001B[39m q_hat(x)\n\u001B[0;32m---> 21\u001B[0m     accept \u001B[38;5;241m=\u001B[39m np\u001B[38;5;241m.\u001B[39mexp(log_target(xp) \u001B[38;5;241m+\u001B[39m log_q(xp, x) \u001B[38;5;241m-\u001B[39m \u001B[43mlog_target\u001B[49m\u001B[43m(\u001B[49m\u001B[43mx\u001B[49m\u001B[43m)\u001B[49m \u001B[38;5;241m-\u001B[39m log_q(x, xp))\n\u001B[1;32m     22\u001B[0m     \u001B[38;5;28;01mif\u001B[39;00m np\u001B[38;5;241m.\u001B[39mrandom\u001B[38;5;241m.\u001B[39muniform() \u001B[38;5;241m<\u001B[39m accept:\n\u001B[1;32m     23\u001B[0m         x \u001B[38;5;241m=\u001B[39m xp\n",
      "Cell \u001B[0;32mIn[45], line 7\u001B[0m, in \u001B[0;36mlog_target\u001B[0;34m(x)\u001B[0m\n\u001B[1;32m      6\u001B[0m \u001B[38;5;28;01mdef\u001B[39;00m \u001B[38;5;21mlog_target\u001B[39m(x):\n\u001B[0;32m----> 7\u001B[0m     \u001B[38;5;28;01mreturn\u001B[39;00m np\u001B[38;5;241m.\u001B[39mlog(\u001B[38;5;241m0.5\u001B[39m \u001B[38;5;241m*\u001B[39m \u001B[43mstats\u001B[49m\u001B[38;5;241;43m.\u001B[39;49m\u001B[43mnorm\u001B[49m\u001B[38;5;241;43m.\u001B[39;49m\u001B[43mpdf\u001B[49m\u001B[43m(\u001B[49m\u001B[43mx\u001B[49m\u001B[43m,\u001B[49m\u001B[43m \u001B[49m\u001B[43mloc\u001B[49m\u001B[38;5;241;43m=\u001B[39;49m\u001B[38;5;241;43m4.\u001B[39;49m\u001B[43m,\u001B[49m\u001B[43m \u001B[49m\u001B[43mscale\u001B[49m\u001B[38;5;241;43m=\u001B[39;49m\u001B[38;5;241;43m1.0\u001B[39;49m\u001B[43m)\u001B[49m \u001B[38;5;241m+\u001B[39m \u001B[38;5;241m0.5\u001B[39m \u001B[38;5;241m*\u001B[39m stats\u001B[38;5;241m.\u001B[39mnorm\u001B[38;5;241m.\u001B[39mpdf(x, loc\u001B[38;5;241m=\u001B[39m\u001B[38;5;241m-\u001B[39m\u001B[38;5;241m4.\u001B[39m, scale\u001B[38;5;241m=\u001B[39m\u001B[38;5;241m1.0\u001B[39m)\n\u001B[1;32m      8\u001B[0m                   )\n",
      "File \u001B[0;32m~/unbiased_mcmc_with_couplings/venv/lib/python3.11/site-packages/scipy/stats/_distn_infrastructure.py:1990\u001B[0m, in \u001B[0;36mrv_continuous.pdf\u001B[0;34m(self, x, *args, **kwds)\u001B[0m\n\u001B[1;32m   1988\u001B[0m cond1 \u001B[38;5;241m=\u001B[39m \u001B[38;5;28mself\u001B[39m\u001B[38;5;241m.\u001B[39m_support_mask(x, \u001B[38;5;241m*\u001B[39margs) \u001B[38;5;241m&\u001B[39m (scale \u001B[38;5;241m>\u001B[39m \u001B[38;5;241m0\u001B[39m)\n\u001B[1;32m   1989\u001B[0m cond \u001B[38;5;241m=\u001B[39m cond0 \u001B[38;5;241m&\u001B[39m cond1\n\u001B[0;32m-> 1990\u001B[0m output \u001B[38;5;241m=\u001B[39m zeros(\u001B[43mshape\u001B[49m\u001B[43m(\u001B[49m\u001B[43mcond\u001B[49m\u001B[43m)\u001B[49m, dtyp)\n\u001B[1;32m   1991\u001B[0m putmask(output, (\u001B[38;5;241m1\u001B[39m\u001B[38;5;241m-\u001B[39mcond0)\u001B[38;5;241m+\u001B[39mnp\u001B[38;5;241m.\u001B[39misnan(x), \u001B[38;5;28mself\u001B[39m\u001B[38;5;241m.\u001B[39mbadvalue)\n\u001B[1;32m   1992\u001B[0m \u001B[38;5;28;01mif\u001B[39;00m np\u001B[38;5;241m.\u001B[39many(cond):\n",
      "File \u001B[0;32m~/unbiased_mcmc_with_couplings/venv/lib/python3.11/site-packages/numpy/core/fromnumeric.py:1980\u001B[0m, in \u001B[0;36mshape\u001B[0;34m(a)\u001B[0m\n\u001B[1;32m   1976\u001B[0m \u001B[38;5;28;01mdef\u001B[39;00m \u001B[38;5;21m_shape_dispatcher\u001B[39m(a):\n\u001B[1;32m   1977\u001B[0m     \u001B[38;5;28;01mreturn\u001B[39;00m (a,)\n\u001B[0;32m-> 1980\u001B[0m \u001B[38;5;129m@array_function_dispatch\u001B[39m(_shape_dispatcher)\n\u001B[1;32m   1981\u001B[0m \u001B[38;5;28;01mdef\u001B[39;00m \u001B[38;5;21mshape\u001B[39m(a):\n\u001B[1;32m   1982\u001B[0m \u001B[38;5;250m    \u001B[39m\u001B[38;5;124;03m\"\"\"\u001B[39;00m\n\u001B[1;32m   1983\u001B[0m \u001B[38;5;124;03m    Return the shape of an array.\u001B[39;00m\n\u001B[1;32m   1984\u001B[0m \n\u001B[0;32m   (...)\u001B[0m\n\u001B[1;32m   2019\u001B[0m \n\u001B[1;32m   2020\u001B[0m \u001B[38;5;124;03m    \"\"\"\u001B[39;00m\n\u001B[1;32m   2021\u001B[0m     \u001B[38;5;28;01mtry\u001B[39;00m:\n",
      "\u001B[0;31mKeyboardInterrupt\u001B[0m: "
     ]
    }
   ],
   "source": [
    "default_monte_carlo_estimator(h, 0.0, q_hat_random_walk_mh_proposal, log_q, log_target, 100000)"
   ],
   "metadata": {
    "collapsed": false
   }
  },
  {
   "cell_type": "code",
   "execution_count": 51,
   "outputs": [
    {
     "ename": "KeyboardInterrupt",
     "evalue": "",
     "output_type": "error",
     "traceback": [
      "\u001B[0;31m---------------------------------------------------------------------------\u001B[0m",
      "\u001B[0;31mKeyboardInterrupt\u001B[0m                         Traceback (most recent call last)",
      "Cell \u001B[0;32mIn[51], line 1\u001B[0m\n\u001B[0;32m----> 1\u001B[0m \u001B[43munbiased_monte_carlo_estimator\u001B[49m\u001B[43m(\u001B[49m\u001B[43mh\u001B[49m\u001B[43m,\u001B[49m\u001B[43m \u001B[49m\u001B[43mnp\u001B[49m\u001B[38;5;241;43m.\u001B[39;49m\u001B[43mrandom\u001B[49m\u001B[38;5;241;43m.\u001B[39;49m\u001B[43muniform\u001B[49m\u001B[43m(\u001B[49m\u001B[43m)\u001B[49m\u001B[43m,\u001B[49m\u001B[43m \u001B[49m\u001B[43mnp\u001B[49m\u001B[38;5;241;43m.\u001B[39;49m\u001B[43mrandom\u001B[49m\u001B[38;5;241;43m.\u001B[39;49m\u001B[43muniform\u001B[49m\u001B[43m(\u001B[49m\u001B[43m)\u001B[49m\u001B[43m,\u001B[49m\u001B[43m \u001B[49m\u001B[43mq_hat_random_walk_mh_proposal\u001B[49m\u001B[43m,\u001B[49m\u001B[43m \u001B[49m\u001B[43mlog_q\u001B[49m\u001B[43m,\u001B[49m\u001B[43m \u001B[49m\u001B[43mlog_target\u001B[49m\u001B[43m,\u001B[49m\u001B[43m \u001B[49m\u001B[38;5;241;43m10000\u001B[39;49m\u001B[43m,\u001B[49m\u001B[43m \u001B[49m\u001B[38;5;241;43m100000\u001B[39;49m\u001B[43m)\u001B[49m\n",
      "Cell \u001B[0;32mIn[45], line 71\u001B[0m, in \u001B[0;36munbiased_monte_carlo_estimator\u001B[0;34m(h, x0, y0, q_hat, log_q, log_target, k, m, eta, lag, max_iter)\u001B[0m\n\u001B[1;32m     69\u001B[0m W \u001B[38;5;241m=\u001B[39m \u001B[38;5;241m-\u001B[39mnp\u001B[38;5;241m.\u001B[39mrandom\u001B[38;5;241m.\u001B[39mexponential()\n\u001B[1;32m     70\u001B[0m accept_X \u001B[38;5;241m=\u001B[39m W \u001B[38;5;241m<\u001B[39m\u001B[38;5;241m=\u001B[39m log_target(x_prop) \u001B[38;5;241m+\u001B[39m log_q(x_prop, x) \u001B[38;5;241m-\u001B[39m log_target(x) \u001B[38;5;241m-\u001B[39m log_q(x, x_prop)\n\u001B[0;32m---> 71\u001B[0m accept_Y \u001B[38;5;241m=\u001B[39m W \u001B[38;5;241m<\u001B[39m\u001B[38;5;241m=\u001B[39m \u001B[43mlog_target\u001B[49m\u001B[43m(\u001B[49m\u001B[43my_prop\u001B[49m\u001B[43m)\u001B[49m \u001B[38;5;241m+\u001B[39m log_q(y_prop, y) \u001B[38;5;241m-\u001B[39m log_target(y) \u001B[38;5;241m-\u001B[39m log_q(y, y_prop)\n\u001B[1;32m     72\u001B[0m \u001B[38;5;28;01mif\u001B[39;00m accept_X:\n\u001B[1;32m     73\u001B[0m     x \u001B[38;5;241m=\u001B[39m x_prop\n",
      "Cell \u001B[0;32mIn[45], line 7\u001B[0m, in \u001B[0;36mlog_target\u001B[0;34m(x)\u001B[0m\n\u001B[1;32m      6\u001B[0m \u001B[38;5;28;01mdef\u001B[39;00m \u001B[38;5;21mlog_target\u001B[39m(x):\n\u001B[0;32m----> 7\u001B[0m     \u001B[38;5;28;01mreturn\u001B[39;00m np\u001B[38;5;241m.\u001B[39mlog(\u001B[38;5;241m0.5\u001B[39m \u001B[38;5;241m*\u001B[39m \u001B[43mstats\u001B[49m\u001B[38;5;241;43m.\u001B[39;49m\u001B[43mnorm\u001B[49m\u001B[38;5;241;43m.\u001B[39;49m\u001B[43mpdf\u001B[49m\u001B[43m(\u001B[49m\u001B[43mx\u001B[49m\u001B[43m,\u001B[49m\u001B[43m \u001B[49m\u001B[43mloc\u001B[49m\u001B[38;5;241;43m=\u001B[39;49m\u001B[38;5;241;43m4.\u001B[39;49m\u001B[43m,\u001B[49m\u001B[43m \u001B[49m\u001B[43mscale\u001B[49m\u001B[38;5;241;43m=\u001B[39;49m\u001B[38;5;241;43m1.0\u001B[39;49m\u001B[43m)\u001B[49m \u001B[38;5;241m+\u001B[39m \u001B[38;5;241m0.5\u001B[39m \u001B[38;5;241m*\u001B[39m stats\u001B[38;5;241m.\u001B[39mnorm\u001B[38;5;241m.\u001B[39mpdf(x, loc\u001B[38;5;241m=\u001B[39m\u001B[38;5;241m-\u001B[39m\u001B[38;5;241m4.\u001B[39m, scale\u001B[38;5;241m=\u001B[39m\u001B[38;5;241m1.0\u001B[39m)\n\u001B[1;32m      8\u001B[0m                   )\n",
      "File \u001B[0;32m~/unbiased_mcmc_with_couplings/venv/lib/python3.11/site-packages/scipy/stats/_distn_infrastructure.py:1993\u001B[0m, in \u001B[0;36mrv_continuous.pdf\u001B[0;34m(self, x, *args, **kwds)\u001B[0m\n\u001B[1;32m   1991\u001B[0m putmask(output, (\u001B[38;5;241m1\u001B[39m\u001B[38;5;241m-\u001B[39mcond0)\u001B[38;5;241m+\u001B[39mnp\u001B[38;5;241m.\u001B[39misnan(x), \u001B[38;5;28mself\u001B[39m\u001B[38;5;241m.\u001B[39mbadvalue)\n\u001B[1;32m   1992\u001B[0m \u001B[38;5;28;01mif\u001B[39;00m np\u001B[38;5;241m.\u001B[39many(cond):\n\u001B[0;32m-> 1993\u001B[0m     goodargs \u001B[38;5;241m=\u001B[39m \u001B[43margsreduce\u001B[49m\u001B[43m(\u001B[49m\u001B[43mcond\u001B[49m\u001B[43m,\u001B[49m\u001B[43m \u001B[49m\u001B[38;5;241;43m*\u001B[39;49m\u001B[43m(\u001B[49m\u001B[43m(\u001B[49m\u001B[43mx\u001B[49m\u001B[43m,\u001B[49m\u001B[43m)\u001B[49m\u001B[38;5;241;43m+\u001B[39;49m\u001B[43margs\u001B[49m\u001B[38;5;241;43m+\u001B[39;49m\u001B[43m(\u001B[49m\u001B[43mscale\u001B[49m\u001B[43m,\u001B[49m\u001B[43m)\u001B[49m\u001B[43m)\u001B[49m\u001B[43m)\u001B[49m\n\u001B[1;32m   1994\u001B[0m     scale, goodargs \u001B[38;5;241m=\u001B[39m goodargs[\u001B[38;5;241m-\u001B[39m\u001B[38;5;241m1\u001B[39m], goodargs[:\u001B[38;5;241m-\u001B[39m\u001B[38;5;241m1\u001B[39m]\n\u001B[1;32m   1995\u001B[0m     place(output, cond, \u001B[38;5;28mself\u001B[39m\u001B[38;5;241m.\u001B[39m_pdf(\u001B[38;5;241m*\u001B[39mgoodargs) \u001B[38;5;241m/\u001B[39m scale)\n",
      "File \u001B[0;32m~/unbiased_mcmc_with_couplings/venv/lib/python3.11/site-packages/scipy/stats/_distn_infrastructure.py:606\u001B[0m, in \u001B[0;36margsreduce\u001B[0;34m(cond, *args)\u001B[0m\n\u001B[1;32m    602\u001B[0m     newargs \u001B[38;5;241m=\u001B[39m [newargs, ]\n\u001B[1;32m    604\u001B[0m \u001B[38;5;28;01mif\u001B[39;00m np\u001B[38;5;241m.\u001B[39mall(cond):\n\u001B[1;32m    605\u001B[0m     \u001B[38;5;66;03m# broadcast arrays with cond\u001B[39;00m\n\u001B[0;32m--> 606\u001B[0m     \u001B[38;5;241m*\u001B[39mnewargs, cond \u001B[38;5;241m=\u001B[39m \u001B[43mnp\u001B[49m\u001B[38;5;241;43m.\u001B[39;49m\u001B[43mbroadcast_arrays\u001B[49m\u001B[43m(\u001B[49m\u001B[38;5;241;43m*\u001B[39;49m\u001B[43mnewargs\u001B[49m\u001B[43m,\u001B[49m\u001B[43m \u001B[49m\u001B[43mcond\u001B[49m\u001B[43m)\u001B[49m\n\u001B[1;32m    607\u001B[0m     \u001B[38;5;28;01mreturn\u001B[39;00m [arg\u001B[38;5;241m.\u001B[39mravel() \u001B[38;5;28;01mfor\u001B[39;00m arg \u001B[38;5;129;01min\u001B[39;00m newargs]\n\u001B[1;32m    609\u001B[0m s \u001B[38;5;241m=\u001B[39m cond\u001B[38;5;241m.\u001B[39mshape\n",
      "File \u001B[0;32m~/unbiased_mcmc_with_couplings/venv/lib/python3.11/site-packages/numpy/lib/stride_tricks.py:546\u001B[0m, in \u001B[0;36mbroadcast_arrays\u001B[0;34m(subok, *args)\u001B[0m\n\u001B[1;32m    542\u001B[0m \u001B[38;5;28;01mif\u001B[39;00m \u001B[38;5;28mall\u001B[39m(array\u001B[38;5;241m.\u001B[39mshape \u001B[38;5;241m==\u001B[39m shape \u001B[38;5;28;01mfor\u001B[39;00m array \u001B[38;5;129;01min\u001B[39;00m args):\n\u001B[1;32m    543\u001B[0m     \u001B[38;5;66;03m# Common case where nothing needs to be broadcasted.\u001B[39;00m\n\u001B[1;32m    544\u001B[0m     \u001B[38;5;28;01mreturn\u001B[39;00m args\n\u001B[0;32m--> 546\u001B[0m \u001B[38;5;28;01mreturn\u001B[39;00m \u001B[43m[\u001B[49m\u001B[43m_broadcast_to\u001B[49m\u001B[43m(\u001B[49m\u001B[43marray\u001B[49m\u001B[43m,\u001B[49m\u001B[43m \u001B[49m\u001B[43mshape\u001B[49m\u001B[43m,\u001B[49m\u001B[43m \u001B[49m\u001B[43msubok\u001B[49m\u001B[38;5;241;43m=\u001B[39;49m\u001B[43msubok\u001B[49m\u001B[43m,\u001B[49m\u001B[43m \u001B[49m\u001B[43mreadonly\u001B[49m\u001B[38;5;241;43m=\u001B[39;49m\u001B[38;5;28;43;01mFalse\u001B[39;49;00m\u001B[43m)\u001B[49m\n\u001B[1;32m    547\u001B[0m \u001B[43m        \u001B[49m\u001B[38;5;28;43;01mfor\u001B[39;49;00m\u001B[43m \u001B[49m\u001B[43marray\u001B[49m\u001B[43m \u001B[49m\u001B[38;5;129;43;01min\u001B[39;49;00m\u001B[43m \u001B[49m\u001B[43margs\u001B[49m\u001B[43m]\u001B[49m\n",
      "File \u001B[0;32m~/unbiased_mcmc_with_couplings/venv/lib/python3.11/site-packages/numpy/lib/stride_tricks.py:546\u001B[0m, in \u001B[0;36m<listcomp>\u001B[0;34m(.0)\u001B[0m\n\u001B[1;32m    542\u001B[0m \u001B[38;5;28;01mif\u001B[39;00m \u001B[38;5;28mall\u001B[39m(array\u001B[38;5;241m.\u001B[39mshape \u001B[38;5;241m==\u001B[39m shape \u001B[38;5;28;01mfor\u001B[39;00m array \u001B[38;5;129;01min\u001B[39;00m args):\n\u001B[1;32m    543\u001B[0m     \u001B[38;5;66;03m# Common case where nothing needs to be broadcasted.\u001B[39;00m\n\u001B[1;32m    544\u001B[0m     \u001B[38;5;28;01mreturn\u001B[39;00m args\n\u001B[0;32m--> 546\u001B[0m \u001B[38;5;28;01mreturn\u001B[39;00m [\u001B[43m_broadcast_to\u001B[49m\u001B[43m(\u001B[49m\u001B[43marray\u001B[49m\u001B[43m,\u001B[49m\u001B[43m \u001B[49m\u001B[43mshape\u001B[49m\u001B[43m,\u001B[49m\u001B[43m \u001B[49m\u001B[43msubok\u001B[49m\u001B[38;5;241;43m=\u001B[39;49m\u001B[43msubok\u001B[49m\u001B[43m,\u001B[49m\u001B[43m \u001B[49m\u001B[43mreadonly\u001B[49m\u001B[38;5;241;43m=\u001B[39;49m\u001B[38;5;28;43;01mFalse\u001B[39;49;00m\u001B[43m)\u001B[49m\n\u001B[1;32m    547\u001B[0m         \u001B[38;5;28;01mfor\u001B[39;00m array \u001B[38;5;129;01min\u001B[39;00m args]\n",
      "File \u001B[0;32m~/unbiased_mcmc_with_couplings/venv/lib/python3.11/site-packages/numpy/lib/stride_tricks.py:349\u001B[0m, in \u001B[0;36m_broadcast_to\u001B[0;34m(array, shape, subok, readonly)\u001B[0m\n\u001B[1;32m    346\u001B[0m     \u001B[38;5;28;01mraise\u001B[39;00m \u001B[38;5;167;01mValueError\u001B[39;00m(\u001B[38;5;124m'\u001B[39m\u001B[38;5;124mall elements of broadcast shape must be non-\u001B[39m\u001B[38;5;124m'\u001B[39m\n\u001B[1;32m    347\u001B[0m                      \u001B[38;5;124m'\u001B[39m\u001B[38;5;124mnegative\u001B[39m\u001B[38;5;124m'\u001B[39m)\n\u001B[1;32m    348\u001B[0m extras \u001B[38;5;241m=\u001B[39m []\n\u001B[0;32m--> 349\u001B[0m it \u001B[38;5;241m=\u001B[39m \u001B[43mnp\u001B[49m\u001B[38;5;241;43m.\u001B[39;49m\u001B[43mnditer\u001B[49m\u001B[43m(\u001B[49m\n\u001B[1;32m    350\u001B[0m \u001B[43m    \u001B[49m\u001B[43m(\u001B[49m\u001B[43marray\u001B[49m\u001B[43m,\u001B[49m\u001B[43m)\u001B[49m\u001B[43m,\u001B[49m\u001B[43m \u001B[49m\u001B[43mflags\u001B[49m\u001B[38;5;241;43m=\u001B[39;49m\u001B[43m[\u001B[49m\u001B[38;5;124;43m'\u001B[39;49m\u001B[38;5;124;43mmulti_index\u001B[39;49m\u001B[38;5;124;43m'\u001B[39;49m\u001B[43m,\u001B[49m\u001B[43m \u001B[49m\u001B[38;5;124;43m'\u001B[39;49m\u001B[38;5;124;43mrefs_ok\u001B[39;49m\u001B[38;5;124;43m'\u001B[39;49m\u001B[43m,\u001B[49m\u001B[43m \u001B[49m\u001B[38;5;124;43m'\u001B[39;49m\u001B[38;5;124;43mzerosize_ok\u001B[39;49m\u001B[38;5;124;43m'\u001B[39;49m\u001B[43m]\u001B[49m\u001B[43m \u001B[49m\u001B[38;5;241;43m+\u001B[39;49m\u001B[43m \u001B[49m\u001B[43mextras\u001B[49m\u001B[43m,\u001B[49m\n\u001B[1;32m    351\u001B[0m \u001B[43m    \u001B[49m\u001B[43mop_flags\u001B[49m\u001B[38;5;241;43m=\u001B[39;49m\u001B[43m[\u001B[49m\u001B[38;5;124;43m'\u001B[39;49m\u001B[38;5;124;43mreadonly\u001B[39;49m\u001B[38;5;124;43m'\u001B[39;49m\u001B[43m]\u001B[49m\u001B[43m,\u001B[49m\u001B[43m \u001B[49m\u001B[43mitershape\u001B[49m\u001B[38;5;241;43m=\u001B[39;49m\u001B[43mshape\u001B[49m\u001B[43m,\u001B[49m\u001B[43m \u001B[49m\u001B[43morder\u001B[49m\u001B[38;5;241;43m=\u001B[39;49m\u001B[38;5;124;43m'\u001B[39;49m\u001B[38;5;124;43mC\u001B[39;49m\u001B[38;5;124;43m'\u001B[39;49m\u001B[43m)\u001B[49m\n\u001B[1;32m    352\u001B[0m \u001B[38;5;28;01mwith\u001B[39;00m it:\n\u001B[1;32m    353\u001B[0m     \u001B[38;5;66;03m# never really has writebackifcopy semantics\u001B[39;00m\n\u001B[1;32m    354\u001B[0m     broadcast \u001B[38;5;241m=\u001B[39m it\u001B[38;5;241m.\u001B[39mitviews[\u001B[38;5;241m0\u001B[39m]\n",
      "\u001B[0;31mKeyboardInterrupt\u001B[0m: "
     ]
    }
   ],
   "source": [
    "unbiased_monte_carlo_estimator(h, np.random.uniform(), np.random.uniform(), q_hat_random_walk_mh_proposal, log_q, log_target, 10000, 100000)"
   ],
   "metadata": {
    "collapsed": false
   }
  },
  {
   "cell_type": "code",
   "execution_count": null,
   "outputs": [],
   "source": [
    "N_try = 10\n",
    "estimators = np.zeros(N_try)\n",
    "for k in range(N_try):\n",
    "    estimators[k] = unbiased_monte_carlo_estimator(h, np.random.uniform(), np.random.uniform(), q_hat_random_walk_mh_proposal, log_q, log_target, 10, 100)[0]\n",
    "plt.hist(estimators, bins=10)"
   ],
   "metadata": {
    "collapsed": false
   }
  },
  {
   "cell_type": "code",
   "execution_count": null,
   "outputs": [],
   "source": [
    "ks = [1, 100, 200]\n",
    "m_mults = [1, 10, 20]\n",
    "N_try = 1000\n",
    "d = dict()\n",
    "for k in ks:\n",
    "    for m in m_mults:\n",
    "        estimators = np.zeros(N_try)\n",
    "        for t in range(N_try):\n",
    "            estimators[t] = unbiased_monte_carlo_estimator(h, np.random.uniform(), np.random.uniform(), q_hat_random_walk_mh_proposal, log_q, log_target, k, m)[0]\n",
    "        d[(k,m)] = estimators\n",
    "\n",
    "import pickle\n",
    "with open('estimators.pkl', 'wb') as f:\n",
    "    pickle.dump(d, f)"
   ],
   "metadata": {
    "collapsed": false,
    "pycharm": {
     "is_executing": true
    }
   }
  },
  {
   "cell_type": "code",
   "execution_count": null,
   "outputs": [],
   "source": [],
   "metadata": {
    "collapsed": false
   }
  }
 ],
 "metadata": {
  "kernelspec": {
   "display_name": "Python 3",
   "language": "python",
   "name": "python3"
  },
  "language_info": {
   "codemirror_mode": {
    "name": "ipython",
    "version": 2
   },
   "file_extension": ".py",
   "mimetype": "text/x-python",
   "name": "python",
   "nbconvert_exporter": "python",
   "pygments_lexer": "ipython2",
   "version": "2.7.6"
  }
 },
 "nbformat": 4,
 "nbformat_minor": 0
}
